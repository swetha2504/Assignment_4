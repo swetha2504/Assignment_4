{
 "cells": [
  {
   "cell_type": "code",
   "execution_count": 8,
   "id": "f34e72bc",
   "metadata": {},
   "outputs": [
    {
     "name": "stdout",
     "output_type": "stream",
     "text": [
      "1 2 4 5 6\n",
      "the sample list : [1, 2, 4, 5, 6]\n"
     ]
    }
   ],
   "source": [
    "input_2= list(map(int, input().split()))\n",
    "print(\"the sample list :\",input_2)"
   ]
  },
  {
   "cell_type": "code",
   "execution_count": 11,
   "id": "ba799bea",
   "metadata": {},
   "outputs": [
    {
     "name": "stdout",
     "output_type": "stream",
     "text": [
      "[1, 4, 16, 25, 36]\n"
     ]
    }
   ],
   "source": [
    "square_1= map(lambda num:num**2,input_2)\n",
    "print(list(square_1))"
   ]
  },
  {
   "cell_type": "code",
   "execution_count": 10,
   "id": "8a407562",
   "metadata": {},
   "outputs": [
    {
     "name": "stdout",
     "output_type": "stream",
     "text": [
      "4 5 2 9\n",
      "sample of list numbers: [4, 5, 2, 9]\n",
      "Square the elements of the list: [16, 25, 4, 81]\n"
     ]
    }
   ],
   "source": [
    "input_1= list(map( int, input().split()))\n",
    "print(\"sample of list numbers:\",input_1)\n",
    "value= map(lambda num: num*num, input_1)\n",
    "print(\"Square the elements of the list:\",list(value))"
   ]
  },
  {
   "cell_type": "code",
   "execution_count": null,
   "id": "a9daeec3",
   "metadata": {},
   "outputs": [],
   "source": []
  }
 ],
 "metadata": {
  "kernelspec": {
   "display_name": "Python 3 (ipykernel)",
   "language": "python",
   "name": "python3"
  },
  "language_info": {
   "codemirror_mode": {
    "name": "ipython",
    "version": 3
   },
   "file_extension": ".py",
   "mimetype": "text/x-python",
   "name": "python",
   "nbconvert_exporter": "python",
   "pygments_lexer": "ipython3",
   "version": "3.10.9"
  }
 },
 "nbformat": 4,
 "nbformat_minor": 5
}
