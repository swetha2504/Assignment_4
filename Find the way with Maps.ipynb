{
 "cells": [
  {
   "cell_type": "code",
   "execution_count": 1,
   "id": "791882c5",
   "metadata": {},
   "outputs": [
    {
     "name": "stdout",
     "output_type": "stream",
     "text": [
      "enter the value[1, 2, 3, 4, 5, 6, 7]\n"
     ]
    }
   ],
   "source": [
    "a=eval(input(\"enter the value\"))"
   ]
  },
  {
   "cell_type": "code",
   "execution_count": 2,
   "id": "2f80bd98",
   "metadata": {},
   "outputs": [],
   "source": [
    "value= list(map(lambda num: num*3, a ))"
   ]
  },
  {
   "cell_type": "code",
   "execution_count": 3,
   "id": "f4c6b3f8",
   "metadata": {},
   "outputs": [
    {
     "name": "stdout",
     "output_type": "stream",
     "text": [
      "[3, 6, 9, 12, 15, 18, 21]\n"
     ]
    }
   ],
   "source": [
    "print(value)"
   ]
  },
  {
   "cell_type": "code",
   "execution_count": 12,
   "id": "6381bf48",
   "metadata": {},
   "outputs": [
    {
     "name": "stdout",
     "output_type": "stream",
     "text": [
      "1 2 3 4 5 6 7\n"
     ]
    }
   ],
   "source": [
    "input_1= list(map( int, input().split()))"
   ]
  },
  {
   "cell_type": "code",
   "execution_count": 13,
   "id": "b9efa393",
   "metadata": {},
   "outputs": [
    {
     "name": "stdout",
     "output_type": "stream",
     "text": [
      "sample of list numbers: [1, 2, 3, 4, 5, 6, 7]\n"
     ]
    }
   ],
   "source": [
    "print(\"sample of list numbers:\",input_1)\n"
   ]
  },
  {
   "cell_type": "code",
   "execution_count": 14,
   "id": "dfbcc670",
   "metadata": {},
   "outputs": [
    {
     "name": "stdout",
     "output_type": "stream",
     "text": [
      "Triple of list numbers: [3, 6, 9, 12, 15, 18, 21]\n"
     ]
    }
   ],
   "source": [
    "value= list(map(lambda num: num+num+num, input_1))\n",
    "print(\"Triple of list numbers:\",value)"
   ]
  },
  {
   "cell_type": "code",
   "execution_count": 15,
   "id": "9959d0e2",
   "metadata": {},
   "outputs": [
    {
     "name": "stdout",
     "output_type": "stream",
     "text": [
      "1 2 3 4 5 6 7\n",
      "sample of list numbers: [1, 2, 3, 4, 5, 6, 7]\n",
      "Triple of list numbers: [3, 6, 9, 12, 15, 18, 21]\n"
     ]
    }
   ],
   "source": [
    "input_1= list(map( int, input().split()))\n",
    "print(\"sample of list numbers:\",input_1)\n",
    "value= list(map(lambda num: num+num+num, input_1))\n",
    "print(\"Triple of list numbers:\",value)"
   ]
  },
  {
   "cell_type": "code",
   "execution_count": 16,
   "id": "852b8a32",
   "metadata": {},
   "outputs": [
    {
     "name": "stdout",
     "output_type": "stream",
     "text": [
      "enter the value[1, 2, 3, 4, 5, 6, 7]\n",
      "[3, 6, 9, 12, 15, 18, 21]\n"
     ]
    }
   ],
   "source": [
    "a=eval(input(\"enter the value\"))\n",
    "value= list(map(lambda num: num*3, a ))\n",
    "print(value)"
   ]
  },
  {
   "cell_type": "code",
   "execution_count": null,
   "id": "f64effc7",
   "metadata": {},
   "outputs": [],
   "source": []
  }
 ],
 "metadata": {
  "kernelspec": {
   "display_name": "Python 3 (ipykernel)",
   "language": "python",
   "name": "python3"
  },
  "language_info": {
   "codemirror_mode": {
    "name": "ipython",
    "version": 3
   },
   "file_extension": ".py",
   "mimetype": "text/x-python",
   "name": "python",
   "nbconvert_exporter": "python",
   "pygments_lexer": "ipython3",
   "version": "3.10.9"
  }
 },
 "nbformat": 4,
 "nbformat_minor": 5
}
