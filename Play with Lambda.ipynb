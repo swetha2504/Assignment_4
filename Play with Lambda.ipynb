{
 "cells": [
  {
   "cell_type": "code",
   "execution_count": 2,
   "id": "f107a4a8",
   "metadata": {},
   "outputs": [
    {
     "name": "stdout",
     "output_type": "stream",
     "text": [
      "enter the value: 10\n",
      "adds 25 to a given number passed in as an argument is  35\n"
     ]
    }
   ],
   "source": [
    "a=eval(input(\"enter the value: \"))\n",
    "x=lambda a:a+25\n",
    "print(\"adds 25 to a given number passed in as an argument is \",x(a))"
   ]
  },
  {
   "cell_type": "code",
   "execution_count": null,
   "id": "804d5982",
   "metadata": {},
   "outputs": [],
   "source": []
  }
 ],
 "metadata": {
  "kernelspec": {
   "display_name": "Python 3 (ipykernel)",
   "language": "python",
   "name": "python3"
  },
  "language_info": {
   "codemirror_mode": {
    "name": "ipython",
    "version": 3
   },
   "file_extension": ".py",
   "mimetype": "text/x-python",
   "name": "python",
   "nbconvert_exporter": "python",
   "pygments_lexer": "ipython3",
   "version": "3.10.9"
  }
 },
 "nbformat": 4,
 "nbformat_minor": 5
}
